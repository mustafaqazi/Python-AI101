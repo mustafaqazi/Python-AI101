{
  "nbformat": 4,
  "nbformat_minor": 0,
  "metadata": {
    "colab": {
      "provenance": [],
      "authorship_tag": "ABX9TyNlTkm6TYGCGdy0g5XDNzAm",
      "include_colab_link": true
    },
    "kernelspec": {
      "name": "python3",
      "display_name": "Python 3"
    },
    "language_info": {
      "name": "python"
    }
  },
  "cells": [
    {
      "cell_type": "markdown",
      "metadata": {
        "id": "view-in-github",
        "colab_type": "text"
      },
      "source": [
        "<a href=\"https://colab.research.google.com/github/mustafaqazi/Python-AI101/blob/main/Guessnumber_computer.ipynb\" target=\"_parent\"><img src=\"https://colab.research.google.com/assets/colab-badge.svg\" alt=\"Open In Colab\"/></a>"
      ]
    },
    {
      "cell_type": "code",
      "execution_count": 1,
      "metadata": {
        "colab": {
          "base_uri": "https://localhost:8080/"
        },
        "id": "JrY2a808Nur_",
        "outputId": "da0fb06e-5c24-4039-97f5-ee5b2563ca3b"
      },
      "outputs": [
        {
          "output_type": "stream",
          "name": "stdout",
          "text": [
            "Welcome to Guess the Number!\n",
            "I have selected a number between 1 and 100. Try to guess it!\n",
            "Enter your guess: 81\n",
            "Too high! Try again.\n",
            "Enter your guess: 51\n",
            "Too high! Try again.\n",
            "Enter your guess: 41\n",
            "Too high! Try again.\n",
            "Enter your guess: 12\n",
            "Too high! Try again.\n",
            "Enter your guess: 10\n",
            "Too high! Try again.\n",
            "Enter your guess: 9\n",
            "Too high! Try again.\n",
            "Enter your guess: 8\n",
            "Congratulations! You guessed the number 8 in 7 attempts.\n"
          ]
        }
      ],
      "source": [
        "#Guess the Number\" game in Python\n",
        "#Generate a Random Number:\n",
        "#Use the random module to generate a random number.\n",
        "#Get User Input:\n",
        "#Prompt the user to guess the number.\n",
        "#Compare the Guess:\n",
        "#Compare the user's guess to the generated number and give feedback (e.g., \"Too high,\" \"Too low\").\n",
        "#Loop Until Correct:\n",
        "#Continue prompting the user until they guess the correct number.\n",
        "\n",
        "import random\n",
        "\n",
        "def guess_the_number():\n",
        "    number_to_guess = random.randint(1, 100)  # Generate a random number between 1 and 100\n",
        "    attempts = 0\n",
        "    guessed_correctly = False\n",
        "\n",
        "    print(\"Welcome to Guess the Number!\")\n",
        "    print(\"I have selected a number between 1 and 100. Try to guess it!\")\n",
        "\n",
        "    while not guessed_correctly:\n",
        "        user_guess = int(input(\"Enter your guess: \"))\n",
        "        attempts += 1\n",
        "\n",
        "        if user_guess < number_to_guess:\n",
        "            print(\"Too low! Try again.\")\n",
        "        elif user_guess > number_to_guess:\n",
        "            print(\"Too high! Try again.\")\n",
        "        else:\n",
        "            guessed_correctly = True\n",
        "            print(f\"Congratulations! You guessed the number {number_to_guess} in {attempts} attempts.\")\n",
        "\n",
        "# Run the game\n",
        "guess_the_number()\n"
      ]
    }
  ]
}