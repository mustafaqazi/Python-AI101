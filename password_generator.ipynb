{
  "nbformat": 4,
  "nbformat_minor": 0,
  "metadata": {
    "colab": {
      "provenance": [],
      "authorship_tag": "ABX9TyM5lsAgfeMDnQbQQtM5IT7O",
      "include_colab_link": true
    },
    "kernelspec": {
      "name": "python3",
      "display_name": "Python 3"
    },
    "language_info": {
      "name": "python"
    }
  },
  "cells": [
    {
      "cell_type": "markdown",
      "metadata": {
        "id": "view-in-github",
        "colab_type": "text"
      },
      "source": [
        "<a href=\"https://colab.research.google.com/github/mustafaqazi/Python-AI101/blob/main/password_generator.ipynb\" target=\"_parent\"><img src=\"https://colab.research.google.com/assets/colab-badge.svg\" alt=\"Open In Colab\"/></a>"
      ]
    },
    {
      "cell_type": "code",
      "execution_count": 3,
      "metadata": {
        "colab": {
          "base_uri": "https://localhost:8080/"
        },
        "id": "-PBP0jLs2Oub",
        "outputId": "1da0afad-0482-49fb-e099-4c6a1bde83f3"
      },
      "outputs": [
        {
          "output_type": "stream",
          "name": "stdout",
          "text": [
            "Enter the desired password length: 6\n",
            "Generated Password: 6tk&eW\n"
          ]
        }
      ],
      "source": [
        "#Create a password generator in Python a useful project which helps us practice how to work with strings and randomization.\n",
        "#Import Required Modules:\n",
        "#Use the random and string modules to help generate random characters.\n",
        "#Define Password Criteria:\n",
        "#Decide the length of the password and the types of characters to include (e.g., letters, digits, symbols).\n",
        "#Generate Password:\n",
        "#Randomly select characters based on the defined criteria and concatenate them to form the password.\n",
        "#Output the Password:\n",
        "#Display the generated password to the user.\n",
        "\n",
        "import random\n",
        "import string\n",
        "\n",
        "def generate_password(length):\n",
        "    # Define the characters to include in the password\n",
        "    all_characters = string.ascii_letters + string.digits + string.punctuation\n",
        "    password = ''.join(random.choice(all_characters) for _ in range(length))\n",
        "    return password\n",
        "\n",
        "# Get user input for the desired password length\n",
        "password_length = int(input(\"Enter the desired password length: \"))\n",
        "generated_password = generate_password(password_length)\n",
        "\n",
        "print(\"Generated Password:\", generated_password)\n",
        "\n",
        "\n"
      ]
    }
  ]
}