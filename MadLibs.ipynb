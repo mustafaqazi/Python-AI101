{
  "nbformat": 4,
  "nbformat_minor": 0,
  "metadata": {
    "colab": {
      "provenance": []
    },
    "kernelspec": {
      "name": "python3",
      "display_name": "Python 3"
    },
    "language_info": {
      "name": "python"
    }
  },
  "cells": [
    {
      "cell_type": "code",
      "execution_count": 5,
      "metadata": {
        "colab": {
          "base_uri": "https://localhost:8080/"
        },
        "id": "lkZpJY2iE4zz",
        "outputId": "6bb9666b-f2bf-4794-b4a3-9f4bc533aa90"
      },
      "outputs": [
        {
          "output_type": "stream",
          "name": "stdout",
          "text": [
            "Enter an adjective: big\n",
            "Enter a noun: squirrel\n",
            "Enter a verb (past tense): quickly\n",
            "Enter an adverb: ran\n",
            "Enter another adjective: favorite\n",
            "Enter another noun: place\n",
            "Enter one more noun: squirrel\n",
            "\n",
            "Here is your MadLibs story:\n",
            "Today I went to the zoo. I saw a big squirrel jumping up and down in its tree. It quickly ran through the large tunnel that led to its favorite place. I got some peanuts and passed them through the cage to a gigantic gray squirrel towering above my head.\n"
          ]
        }
      ],
      "source": [
        "#Mad Libs is a fun word game where players fill in blanks with different types of words (nouns, verbs, adjectives, etc.) to create a silly story.\n",
        "#This program:\n",
        "#Asks the user for different types of words (nouns, adjectives, verbs, etc.)\n",
        "#Inserts those words into a pre-written story template\n",
        "#Displays the completed (and likely hilarious) story\n",
        "#Gives the option to play again\n",
        "\n",
        "# Get user inputs\n",
        "adjective1 = input(\"Enter an adjective: \")\n",
        "noun1 = input(\"Enter a noun: \")\n",
        "verb_past_tense1 = input(\"Enter a verb (past tense): \")\n",
        "adverb1 = input(\"Enter an adverb: \")\n",
        "adjective2 = input(\"Enter another adjective: \")\n",
        "noun2 = input(\"Enter another noun: \")\n",
        "noun3 = input(\"Enter one more noun: \")\n",
        "\n",
        "# Story template\n",
        "story = f\"Today I went to the zoo. I saw a {adjective1} {noun1} jumping up and down in its tree. \\\n",
        "It {verb_past_tense1} {adverb1} through the large tunnel that led to its {adjective2} {noun2}. \\\n",
        "I got some peanuts and passed them through the cage to a gigantic gray {noun3} towering above my head.\"\n",
        "\n",
        "# Print the story\n",
        "print(\"\\nHere is your MadLibs story:\")\n",
        "print(story)\n",
        "\n"
      ]
    }
  ]
}