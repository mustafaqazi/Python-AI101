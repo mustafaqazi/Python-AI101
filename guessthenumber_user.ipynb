{
  "nbformat": 4,
  "nbformat_minor": 0,
  "metadata": {
    "colab": {
      "provenance": [],
      "authorship_tag": "ABX9TyNkVaifHkvef76AnfPAHF3E",
      "include_colab_link": true
    },
    "kernelspec": {
      "name": "python3",
      "display_name": "Python 3"
    },
    "language_info": {
      "name": "python"
    }
  },
  "cells": [
    {
      "cell_type": "markdown",
      "metadata": {
        "id": "view-in-github",
        "colab_type": "text"
      },
      "source": [
        "<a href=\"https://colab.research.google.com/github/mustafaqazi/Python-AI101/blob/main/guessthenumber_user.ipynb\" target=\"_parent\"><img src=\"https://colab.research.google.com/assets/colab-badge.svg\" alt=\"Open In Colab\"/></a>"
      ]
    },
    {
      "cell_type": "code",
      "execution_count": 3,
      "metadata": {
        "colab": {
          "base_uri": "https://localhost:8080/"
        },
        "id": "FVxJA7uAPZt3",
        "outputId": "387eb7ea-c430-47a1-829f-28468d254643"
      },
      "outputs": [
        {
          "output_type": "stream",
          "name": "stdout",
          "text": [
            "Think of a number between 1 and 100, and I will try to guess it.\n",
            "Is the number 50? (higher/lower/correct): lower\n",
            "Is the number 25? (higher/lower/correct): higher\n",
            "Is the number 37? (higher/lower/correct): higher\n",
            "Is the number 43? (higher/lower/correct): correct\n",
            "Hurray! I guessed the number 43 in 4 attempts.\n"
          ]
        }
      ],
      "source": [
        "#\"Guess the Number\" game where the user thinks of a number, and the computer tries to guess it\n",
        "#User Chooses a Number:\n",
        "#Prompt the user to think of a number within a certain range.\n",
        "#Computer Makes Guesses:\n",
        "#The computer will make guesses and the user provides feedback (higher, lower, correct).\n",
        "#Adjust Range:\n",
        "#Based on the user's feedback, adjust the range of possible numbers.\n",
        "#Loop Until Correct:\n",
        "#Continue until the computer guesses the correct number.\n",
        "\n",
        "def guess_the_number():\n",
        "    print(\"Think of a number between 1 and 100, and I will try to guess it.\")\n",
        "\n",
        "    lower_bound = 1\n",
        "    upper_bound = 100\n",
        "    attempts = 0\n",
        "    guessed_correctly = False\n",
        "\n",
        "    while not guessed_correctly:\n",
        "        guess = (lower_bound + upper_bound) // 2\n",
        "        attempts += 1\n",
        "        feedback = input(f\"Is the number {guess}? (higher/lower/correct): \").strip().lower()\n",
        "\n",
        "        if feedback == \"higher\":\n",
        "            lower_bound = guess + 1\n",
        "        elif feedback == \"lower\":\n",
        "            upper_bound = guess - 1\n",
        "        elif feedback == \"correct\":\n",
        "            guessed_correctly = True\n",
        "            print(f\"Hurray! I guessed the number {guess} in {attempts} attempts.\")\n",
        "        else:\n",
        "            print(\"Please enter 'higher', 'lower', or 'correct'.\")\n",
        "\n",
        "# Run the game\n",
        "guess_the_number()\n"
      ]
    }
  ]
}