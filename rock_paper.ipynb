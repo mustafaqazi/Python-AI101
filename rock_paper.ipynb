{
  "nbformat": 4,
  "nbformat_minor": 0,
  "metadata": {
    "colab": {
      "provenance": [],
      "authorship_tag": "ABX9TyPPkDkx81U7w7NeKI2z1xnc",
      "include_colab_link": true
    },
    "kernelspec": {
      "name": "python3",
      "display_name": "Python 3"
    },
    "language_info": {
      "name": "python"
    }
  },
  "cells": [
    {
      "cell_type": "markdown",
      "metadata": {
        "id": "view-in-github",
        "colab_type": "text"
      },
      "source": [
        "<a href=\"https://colab.research.google.com/github/mustafaqazi/Python-AI101/blob/main/rock_paper.ipynb\" target=\"_parent\"><img src=\"https://colab.research.google.com/assets/colab-badge.svg\" alt=\"Open In Colab\"/></a>"
      ]
    },
    {
      "cell_type": "code",
      "execution_count": 1,
      "metadata": {
        "colab": {
          "base_uri": "https://localhost:8080/"
        },
        "id": "4zLtKgVhW7DO",
        "outputId": "d4ea230c-7f4d-450f-ba7d-b0300ec0eb34"
      },
      "outputs": [
        {
          "output_type": "stream",
          "name": "stdout",
          "text": [
            "Enter your choice (rock/paper/scissors or 'quit' to stop): paper\n",
            "Computer chose: scissors\n",
            "Computer wins!\n",
            "\n",
            "Enter your choice (rock/paper/scissors or 'quit' to stop): rock\n",
            "Computer chose: rock\n",
            "It's a tie!\n",
            "\n",
            "Enter your choice (rock/paper/scissors or 'quit' to stop): scissors\n",
            "Computer chose: scissors\n",
            "It's a tie!\n",
            "\n",
            "Enter your choice (rock/paper/scissors or 'quit' to stop): paper\n",
            "Computer chose: scissors\n",
            "Computer wins!\n",
            "\n",
            "Enter your choice (rock/paper/scissors or 'quit' to stop): rock\n",
            "Computer chose: scissors\n",
            "You win!\n",
            "\n",
            "Enter your choice (rock/paper/scissors or 'quit' to stop): quit\n",
            "Thanks for playing! Goodbye!\n"
          ]
        }
      ],
      "source": [
        "#Rock, Paper, Scissors\" game in Python\n",
        "#Import the Random Module:\n",
        "#Use the random module to allow the computer to make a choice.\n",
        "#Get User Input:\n",
        "#Prompt the user to choose rock, paper, or scissors.\n",
        "#Computer Makes a Choice:\n",
        "#Randomly select rock, paper, or scissors for the computer.\n",
        "#Determine the Winner:\n",
        "#Compare the user's choice and the computer's choice to determine the winner.\n",
        "#Loop Until User Wants to Stop:\n",
        "#Allow the user to play multiple rounds until they decide to stop.\n",
        "\n",
        "import random\n",
        "\n",
        "def play_rock_paper_scissors():\n",
        "    choices = [\"rock\", \"paper\", \"scissors\"]\n",
        "\n",
        "    while True:\n",
        "        user_choice = input(\"Enter your choice (rock/paper/scissors or 'quit' to stop): \").strip().lower()\n",
        "\n",
        "        if user_choice == \"quit\":\n",
        "            print(\"Thanks for playing! Goodbye!\")\n",
        "            break\n",
        "\n",
        "        if user_choice not in choices:\n",
        "            print(\"Invalid choice. Please try again.\")\n",
        "            continue\n",
        "\n",
        "        computer_choice = random.choice(choices)\n",
        "        print(f\"Computer chose: {computer_choice}\")\n",
        "\n",
        "        if user_choice == computer_choice:\n",
        "            print(\"It's a tie!\")\n",
        "        elif (user_choice == \"rock\" and computer_choice == \"scissors\") or \\\n",
        "             (user_choice == \"scissors\" and computer_choice == \"paper\") or \\\n",
        "             (user_choice == \"paper\" and computer_choice == \"rock\"):\n",
        "            print(\"You win!\")\n",
        "        else:\n",
        "            print(\"Computer wins!\")\n",
        "\n",
        "        print()  # Print a blank line for better readability\n",
        "\n",
        "# Run the game\n",
        "play_rock_paper_scissors()"
      ]
    }
  ]
}