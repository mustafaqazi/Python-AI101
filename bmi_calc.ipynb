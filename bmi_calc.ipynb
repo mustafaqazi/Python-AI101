{
  "nbformat": 4,
  "nbformat_minor": 0,
  "metadata": {
    "colab": {
      "provenance": [],
      "authorship_tag": "ABX9TyNo56prQPEOHD2JjKsmneVL",
      "include_colab_link": true
    },
    "kernelspec": {
      "name": "python3",
      "display_name": "Python 3"
    },
    "language_info": {
      "name": "python"
    }
  },
  "cells": [
    {
      "cell_type": "markdown",
      "metadata": {
        "id": "view-in-github",
        "colab_type": "text"
      },
      "source": [
        "<a href=\"https://colab.research.google.com/github/mustafaqazi/Python-AI101/blob/main/bmi_calc.ipynb\" target=\"_parent\"><img src=\"https://colab.research.google.com/assets/colab-badge.svg\" alt=\"Open In Colab\"/></a>"
      ]
    },
    {
      "cell_type": "code",
      "source": [
        "# Install dependencies\n",
        "!pip install streamlit pyngrok --quiet"
      ],
      "metadata": {
        "collapsed": true,
        "id": "6Nw7sHZIlkqM"
      },
      "execution_count": 27,
      "outputs": []
    },
    {
      "cell_type": "code",
      "execution_count": null,
      "metadata": {
        "id": "WV4hfZdo4Qde",
        "colab": {
          "base_uri": "https://localhost:8080/"
        },
        "outputId": "3c939e3a-c5cf-4990-ee68-d424fef5d0d9"
      },
      "outputs": [
        {
          "output_type": "stream",
          "name": "stdout",
          "text": [
            "\u001b[1G\u001b[0K⠙\u001b[1G\u001b[0K⠹\u001b[1G\u001b[0K⠸\u001b[1G\u001b[0K⠼\u001b[1G\u001b[0K⠴\u001b[1G\u001b[0K⠦\u001b[1G\u001b[0K⠧\u001b[1G\u001b[0K⠇\u001b[1G\u001b[0K⠏\u001b[1G\u001b[0K⠋\u001b[1G\u001b[0K⠙\u001b[1G\u001b[0K⠹\u001b[1G\u001b[0K⠸\u001b[1G\u001b[0K⠼\u001b[1G\u001b[0K⠴\u001b[1G\u001b[0K\n",
            "added 22 packages in 2s\n",
            "\u001b[1G\u001b[0K⠦\u001b[1G\u001b[0K\n",
            "\u001b[1G\u001b[0K⠦\u001b[1G\u001b[0K3 packages are looking for funding\n",
            "\u001b[1G\u001b[0K⠦\u001b[1G\u001b[0K  run `npm fund` for details\n",
            "\u001b[1G\u001b[0K⠦\u001b[1G\u001b[0K\n",
            "Collecting usage statistics. To deactivate, set browser.gatherUsageStats to false.\n",
            "\u001b[0m\n",
            "\u001b[1G\u001b[0K⠙\u001b[1G\u001b[0K⠹\u001b[1G\u001b[0K⠸\u001b[1G\u001b[0K⠼\u001b[1G\u001b[0K⠴\u001b[1G\u001b[0K⠦\u001b[1G\u001b[0K\u001b[0m\n",
            "\u001b[34m\u001b[1m  You can now view your Streamlit app in your browser.\u001b[0m\n",
            "\u001b[0m\n",
            "\u001b[34m  Local URL: \u001b[0m\u001b[1mhttp://localhost:8501\u001b[0m\n",
            "\u001b[34m  Network URL: \u001b[0m\u001b[1mhttp://172.28.0.12:8501\u001b[0m\n",
            "\u001b[34m  External URL: \u001b[0m\u001b[1mhttp://35.221.220.115:8501\u001b[0m\n",
            "\u001b[0m\n",
            "your url is: https://tall-lamps-return.loca.lt\n"
          ]
        }
      ],
      "source": [
        "# Install dependencies\n",
        "!pip install streamlit pyngrok --quiet\n",
        "\n",
        "#!ngrok authtoken 2u2pof6vByLE2LuAazTDy8pp8bm_AX7WrsfzrMky5X3Z9Vgn\n",
        "\n",
        "!npm install -g localtunnel\n",
        "!streamlit run bmi_calc.py & npx localtunnel --port 8501\n",
        "\n",
        "# Create a Python file for the Streamlit app\n",
        "code = \"\"\"\n",
        "import streamlit as st\n",
        "\n",
        "# BMI Calculation Function\n",
        "def calculate_bmi(weight, height):\n",
        "    return weight / (height ** 2)\n",
        "\n",
        "# Streamlit UI\n",
        "st.title(\"BMI Calculator\")\n",
        "\n",
        "weight = st.number_input(\"Enter your weight (kg):\", min_value=1.0, format=\"%.2f\")\n",
        "height = st.number_input(\"Enter your height (m):\", min_value=0.1, format=\"%.2f\")\n",
        "\n",
        "if st.button(\"Calculate BMI\"):\n",
        "    if height > 0:\n",
        "        bmi = calculate_bmi(weight, height)\n",
        "        st.success(f\"Your BMI is: {bmi:.2f}\")\n",
        "\n",
        "        # Categorization\n",
        "        if bmi < 18.5:\n",
        "            st.warning(\"You are underweight.\")\n",
        "        elif 18.5 <= bmi < 24.9:\n",
        "            st.success(\"You have a normal weight.\")\n",
        "        elif 25 <= bmi < 29.9:\n",
        "            st.warning(\"You are overweight.\")\n",
        "        else:\n",
        "            st.error(\"You are obese.\")\n",
        "    else:\n",
        "        st.error(\"Height must be greater than 0!\")\n",
        "\"\"\"\n",
        "\n",
        "# Write the code to a Python script file\n",
        "with open(\"bmi_calc.py\", \"w\") as f:\n",
        "    f.write(code)\n",
        "\n",
        "# Run the Streamlit app using ngrok\n",
        "from pyngrok import ngrok\n",
        "\n",
        "# Kill previous tunnels if any\n",
        "!pkill -9 streamlit\n",
        "\n",
        "# Start Streamlit app\n",
        "public_url = ngrok.connect(port=8501)\n",
        "print(f\"Public URL: {public_url}\")\n",
        "\n",
        "!streamlit run bmi_calc.py &>/dev/null &\n"
      ]
    }
  ]
}