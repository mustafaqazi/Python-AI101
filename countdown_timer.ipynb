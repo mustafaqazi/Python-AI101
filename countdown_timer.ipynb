{
  "nbformat": 4,
  "nbformat_minor": 0,
  "metadata": {
    "colab": {
      "provenance": [],
      "authorship_tag": "ABX9TyOn3ryXKNEpgyj/R4IheGF9",
      "include_colab_link": true
    },
    "kernelspec": {
      "name": "python3",
      "display_name": "Python 3"
    },
    "language_info": {
      "name": "python"
    }
  },
  "cells": [
    {
      "cell_type": "markdown",
      "metadata": {
        "id": "view-in-github",
        "colab_type": "text"
      },
      "source": [
        "<a href=\"https://colab.research.google.com/github/mustafaqazi/Python-AI101/blob/main/countdown_timer.ipynb\" target=\"_parent\"><img src=\"https://colab.research.google.com/assets/colab-badge.svg\" alt=\"Open In Colab\"/></a>"
      ]
    },
    {
      "cell_type": "code",
      "execution_count": 4,
      "metadata": {
        "colab": {
          "base_uri": "https://localhost:8080/"
        },
        "id": "_A-5e6Fz0B1e",
        "outputId": "728c3b0d-d137-43d6-b2d2-1a69b6b260d9"
      },
      "outputs": [
        {
          "output_type": "stream",
          "name": "stdout",
          "text": [
            "Enter the time in seconds: 10\n",
            "Time's up!\n"
          ]
        }
      ],
      "source": [
        "#countdown timer in Python\n",
        "#Import the Required Module:\n",
        "#Use the time module to handle the countdown.\n",
        "#Get User Input:\n",
        "#Prompt the user to enter the time in seconds for the countdown.\n",
        "#Countdown Loop:\n",
        "#Use a loop to decrease the time and display the countdown until it reaches zero.\n",
        "#End Timer:\n",
        "#Display a message indicating that the countdown has finished.\n",
        "\n",
        "import time\n",
        "\n",
        "def countdown_timer(seconds):\n",
        "    while seconds > 0:\n",
        "        mins, secs = divmod(seconds, 60)\n",
        "        time_format = '{:02d}:{:02d}'.format(mins, secs)\n",
        "        print(time_format, end='\\r')\n",
        "        time.sleep(1)\n",
        "        seconds -= 1\n",
        "\n",
        "    print(\"Time's up!\")\n",
        "\n",
        "# Get user input for the countdown time in seconds\n",
        "time_input = int(input(\"Enter the time in seconds: \"))\n",
        "countdown_timer(time_input)\n"
      ]
    }
  ]
}